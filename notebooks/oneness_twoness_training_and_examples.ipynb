{
 "cells": [
  {
   "cell_type": "markdown",
   "metadata": {},
   "source": [
    "# OnenessTwoness model training\n",
    "This notebook provides the code for training the OnenessTwoness classifier described in the manuscript, and gives examples for how to produced predictions."
   ]
  },
  {
   "cell_type": "markdown",
   "metadata": {},
   "source": [
    "# Load data\n",
    "\n",
    "Read features and genotype annotations"
   ]
  },
  {
   "cell_type": "code",
   "execution_count": 1,
   "metadata": {},
   "outputs": [],
   "source": [
    "## genotypes curated by Zi-Ning\n",
    "hrd_tbl = readRDS(\"./data/hrd-supp-table_ZC.rds\")\n",
    "\n",
    "## new features for revision\n",
    "all.features.dt = readRDS(\"./data/revision.features.dt.rds\")"
   ]
  },
  {
   "cell_type": "markdown",
   "metadata": {},
   "source": [
    "# Define training and test sets\n",
    "\n",
    "Training is done on pan-cancer non-HMF tumors; testing is done on pan-cancer HMF tumors"
   ]
  },
  {
   "cell_type": "code",
   "execution_count": 2,
   "metadata": {},
   "outputs": [],
   "source": [
    "## add genotype annotations\n",
    "all.features.dt[, fmut_bi := hrd_tbl[sample, fmut_bi]]\n",
    "all.features.dt[, dataset := hrd_tbl[sample, dataset]]\n",
    "all.features.dt[, in_bopp := hrd_tbl[sample, in_bopp]]\n",
    "all.features.dt[, HRDetect := hrd_tbl[sample, HRDetect]]\n",
    "\n",
    "all.features.dt[, train.set := (fmut_bi %in% c(\"WT\", \"BRCA1\", \"BRCA2\")) & (dataset != \"HMF\")]\n",
    "all.features.dt[, test.set := (fmut_bi %in% c(\"WT\", \"BRCA1\", \"BRCA2\")) & (dataset == \"HMF\")]"
   ]
  },
  {
   "cell_type": "markdown",
   "metadata": {},
   "source": [
    "# Train models for BRCA1 versus BRCA2"
   ]
  },
  {
   "cell_type": "markdown",
   "metadata": {},
   "source": [
    "## Define features\n",
    "This time use all features that are available"
   ]
  },
  {
   "cell_type": "code",
   "execution_count": 13,
   "metadata": {},
   "outputs": [],
   "source": [
    "big_features_ot = c(\"del.mh.prop\", \"SNV3\", \"SNV8\", \"RS3\", \"RS5\", \"hrd\", \"tib\", \"qrdel\", \"qrdup\", \"ihdel\", \"DUP_1kb_100kb\")"
   ]
  },
  {
   "cell_type": "code",
   "execution_count": 14,
   "metadata": {},
   "outputs": [],
   "source": [
    "b12.train.1v2.x = as.data.frame(all.features.dt[(train.set), .SD, .SDcols = big_features_ot])\n",
    "\n",
    "## response variable is the same\n",
    "train.1v2.y = all.features.dt[(train.set), factor(ifelse(fmut_bi == \"WT\", \"OTHER\", as.character(fmut_bi)), \n",
    "                                                  levels = c(\"OTHER\", \"BRCA1\", \"BRCA2\"))]"
   ]
  },
  {
   "cell_type": "code",
   "execution_count": 15,
   "metadata": {},
   "outputs": [],
   "source": [
    "## THIS IS OUR TRAINED MODEL THAT IS SAVED WITH THIS REPOSITORY\n",
    "\n",
    "set.seed(10)\n",
    "rf.1v2.b12 = randomForest::randomForest(x = b12.train.1v2.x, y = train.1v2.y, ntree = 1000, importance = TRUE)"
   ]
  },
  {
   "cell_type": "markdown",
   "metadata": {},
   "source": [
    "# Making predictions"
   ]
  },
  {
   "cell_type": "code",
   "execution_count": 17,
   "metadata": {},
   "outputs": [],
   "source": [
    "## get feature matrix for predictions\n",
    "all.samples.x = all.features.dt[, .SD, .SDcols = big_features_ot]"
   ]
  },
  {
   "cell_type": "code",
   "execution_count": 22,
   "metadata": {},
   "outputs": [
    {
     "data": {
      "text/html": [
       "<table class=\"dataframe\">\n",
       "<caption>A data.table: 6 × 11</caption>\n",
       "<thead>\n",
       "\t<tr><th scope=col>del.mh.prop</th><th scope=col>SNV3</th><th scope=col>SNV8</th><th scope=col>RS3</th><th scope=col>RS5</th><th scope=col>hrd</th><th scope=col>tib</th><th scope=col>qrdel</th><th scope=col>qrdup</th><th scope=col>ihdel</th><th scope=col>DUP_1kb_100kb</th></tr>\n",
       "\t<tr><th scope=col>&lt;dbl&gt;</th><th scope=col>&lt;dbl&gt;</th><th scope=col>&lt;dbl&gt;</th><th scope=col>&lt;dbl&gt;</th><th scope=col>&lt;dbl&gt;</th><th scope=col>&lt;dbl&gt;</th><th scope=col>&lt;dbl&gt;</th><th scope=col>&lt;dbl&gt;</th><th scope=col>&lt;dbl&gt;</th><th scope=col>&lt;dbl&gt;</th><th scope=col>&lt;dbl&gt;</th></tr>\n",
       "</thead>\n",
       "<tbody>\n",
       "\t<tr><td>0.1255061</td><td>   0.0000</td><td>2678.358</td><td>0</td><td>27.72856</td><td>12</td><td>1</td><td>1</td><td>0</td><td>0</td><td>6</td></tr>\n",
       "\t<tr><td>0.1454545</td><td> 897.2618</td><td>1457.471</td><td>0</td><td> 0.00000</td><td> 2</td><td>0</td><td>1</td><td>0</td><td>0</td><td>2</td></tr>\n",
       "\t<tr><td>0.1886792</td><td>1073.9493</td><td>1566.110</td><td>0</td><td> 0.00000</td><td> 4</td><td>0</td><td>0</td><td>1</td><td>1</td><td>2</td></tr>\n",
       "\t<tr><td>0.1739130</td><td> 646.6614</td><td>   0.000</td><td>0</td><td> 0.00000</td><td> 1</td><td>0</td><td>0</td><td>0</td><td>0</td><td>0</td></tr>\n",
       "\t<tr><td>0.1472684</td><td>   0.0000</td><td>3245.374</td><td>0</td><td> 0.00000</td><td> 1</td><td>0</td><td>1</td><td>4</td><td>0</td><td>1</td></tr>\n",
       "\t<tr><td>0.1372549</td><td>   0.0000</td><td>2238.701</td><td>0</td><td> 0.00000</td><td> 2</td><td>1</td><td>0</td><td>0</td><td>0</td><td>1</td></tr>\n",
       "</tbody>\n",
       "</table>\n"
      ],
      "text/latex": [
       "A data.table: 6 × 11\n",
       "\\begin{tabular}{lllllllllll}\n",
       " del.mh.prop & SNV3 & SNV8 & RS3 & RS5 & hrd & tib & qrdel & qrdup & ihdel & DUP\\_1kb\\_100kb\\\\\n",
       " <dbl> & <dbl> & <dbl> & <dbl> & <dbl> & <dbl> & <dbl> & <dbl> & <dbl> & <dbl> & <dbl>\\\\\n",
       "\\hline\n",
       "\t 0.1255061 &    0.0000 & 2678.358 & 0 & 27.72856 & 12 & 1 & 1 & 0 & 0 & 6\\\\\n",
       "\t 0.1454545 &  897.2618 & 1457.471 & 0 &  0.00000 &  2 & 0 & 1 & 0 & 0 & 2\\\\\n",
       "\t 0.1886792 & 1073.9493 & 1566.110 & 0 &  0.00000 &  4 & 0 & 0 & 1 & 1 & 2\\\\\n",
       "\t 0.1739130 &  646.6614 &    0.000 & 0 &  0.00000 &  1 & 0 & 0 & 0 & 0 & 0\\\\\n",
       "\t 0.1472684 &    0.0000 & 3245.374 & 0 &  0.00000 &  1 & 0 & 1 & 4 & 0 & 1\\\\\n",
       "\t 0.1372549 &    0.0000 & 2238.701 & 0 &  0.00000 &  2 & 1 & 0 & 0 & 0 & 1\\\\\n",
       "\\end{tabular}\n"
      ],
      "text/markdown": [
       "\n",
       "A data.table: 6 × 11\n",
       "\n",
       "| del.mh.prop &lt;dbl&gt; | SNV3 &lt;dbl&gt; | SNV8 &lt;dbl&gt; | RS3 &lt;dbl&gt; | RS5 &lt;dbl&gt; | hrd &lt;dbl&gt; | tib &lt;dbl&gt; | qrdel &lt;dbl&gt; | qrdup &lt;dbl&gt; | ihdel &lt;dbl&gt; | DUP_1kb_100kb &lt;dbl&gt; |\n",
       "|---|---|---|---|---|---|---|---|---|---|---|\n",
       "| 0.1255061 |    0.0000 | 2678.358 | 0 | 27.72856 | 12 | 1 | 1 | 0 | 0 | 6 |\n",
       "| 0.1454545 |  897.2618 | 1457.471 | 0 |  0.00000 |  2 | 0 | 1 | 0 | 0 | 2 |\n",
       "| 0.1886792 | 1073.9493 | 1566.110 | 0 |  0.00000 |  4 | 0 | 0 | 1 | 1 | 2 |\n",
       "| 0.1739130 |  646.6614 |    0.000 | 0 |  0.00000 |  1 | 0 | 0 | 0 | 0 | 0 |\n",
       "| 0.1472684 |    0.0000 | 3245.374 | 0 |  0.00000 |  1 | 0 | 1 | 4 | 0 | 1 |\n",
       "| 0.1372549 |    0.0000 | 2238.701 | 0 |  0.00000 |  2 | 1 | 0 | 0 | 0 | 1 |\n",
       "\n"
      ],
      "text/plain": [
       "  del.mh.prop SNV3      SNV8     RS3 RS5      hrd tib qrdel qrdup ihdel\n",
       "1 0.1255061      0.0000 2678.358 0   27.72856 12  1   1     0     0    \n",
       "2 0.1454545    897.2618 1457.471 0    0.00000  2  0   1     0     0    \n",
       "3 0.1886792   1073.9493 1566.110 0    0.00000  4  0   0     1     1    \n",
       "4 0.1739130    646.6614    0.000 0    0.00000  1  0   0     0     0    \n",
       "5 0.1472684      0.0000 3245.374 0    0.00000  1  0   1     4     0    \n",
       "6 0.1372549      0.0000 2238.701 0    0.00000  2  1   0     0     0    \n",
       "  DUP_1kb_100kb\n",
       "1 6            \n",
       "2 2            \n",
       "3 2            \n",
       "4 0            \n",
       "5 1            \n",
       "6 1            "
      ]
     },
     "metadata": {},
     "output_type": "display_data"
    }
   ],
   "source": [
    "## this is what the data table should look like if you want to make predictions\n",
    "head(all.samples.x)"
   ]
  },
  {
   "cell_type": "code",
   "execution_count": 27,
   "metadata": {},
   "outputs": [],
   "source": [
    "mod = readRDS(\"../models/stash.retrained.model.rds\")\n",
    "\n",
    "predictions.dt = all.features.dt[, .(sample,\n",
    "                                     fmut_bi,\n",
    "                                     train.set,\n",
    "                                     test.set,\n",
    "                                     b1 = predict(mod, all.samples.x, type = \"prob\")[, \"BRCA1\"],\n",
    "                                     b2 = predict(mod, all.samples.x, type = \"prob\")[, \"BRCA2\"])]"
   ]
  },
  {
   "cell_type": "markdown",
   "metadata": {},
   "source": [
    "## HR-status of samples with BRCA1 + BRCA2 > 0.5"
   ]
  },
  {
   "cell_type": "code",
   "execution_count": 34,
   "metadata": {},
   "outputs": [
    {
     "data": {
      "text/plain": [
       "       \n",
       "        FALSE TRUE\n",
       "  FALSE  1826   23\n",
       "  TRUE     12  109"
      ]
     },
     "metadata": {},
     "output_type": "display_data"
    }
   ],
   "source": [
    "predictions.dt[(test.set), table(b1 + b2 > 0.5, fmut_bi != \"WT\")]"
   ]
  }
 ],
 "metadata": {
  "kernelspec": {
   "display_name": "R",
   "language": "R",
   "name": "ir"
  },
  "language_info": {
   "codemirror_mode": "r",
   "file_extension": ".r",
   "mimetype": "text/x-r-source",
   "name": "R",
   "pygments_lexer": "r",
   "version": "4.0.2"
  }
 },
 "nbformat": 4,
 "nbformat_minor": 4
}
